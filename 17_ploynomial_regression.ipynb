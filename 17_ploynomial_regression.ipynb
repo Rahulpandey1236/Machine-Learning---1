{
 "cells": [
  {
   "cell_type": "code",
   "execution_count": 2,
   "id": "3867990d-3cd5-41f1-85cb-e642daab73c1",
   "metadata": {},
   "outputs": [],
   "source": [
    "import numpy as np\n",
    "import matplotlib.pyplot as plt  "
   ]
  },
  {
   "cell_type": "code",
   "execution_count": 3,
   "id": "034dbb98-a95a-483a-b98e-7ffd15223ee8",
   "metadata": {},
   "outputs": [],
   "source": [
    "#generatic synthetic data points\n",
    "np.random.seed(1)"
   ]
  },
  {
   "cell_type": "code",
   "execution_count": 6,
   "id": "68362629-00e3-4ea2-a864-f704af32e462",
   "metadata": {},
   "outputs": [],
   "source": [
    "#generating synthetic X\n",
    "x = 2 * np.random.rand(100,1)"
   ]
  },
  {
   "cell_type": "code",
   "execution_count": 7,
   "id": "a2242e37-03be-47dd-b158-65c8fe0ebbe6",
   "metadata": {},
   "outputs": [
    {
     "data": {
      "text/plain": [
       "array([[0.6532898 ],\n",
       "       [1.0541162 ],\n",
       "       [1.7718842 ],\n",
       "       [0.71453952],\n",
       "       [1.8170703 ],\n",
       "       [1.24672023],\n",
       "       [0.03164249],\n",
       "       [1.85887447],\n",
       "       [1.38179384],\n",
       "       [1.9946457 ],\n",
       "       [0.34468102],\n",
       "       [0.2742715 ],\n",
       "       [1.86519093],\n",
       "       [1.39363632],\n",
       "       [0.13200035],\n",
       "       [1.51092611],\n",
       "       [1.50775238],\n",
       "       [1.84604907],\n",
       "       [1.42304952],\n",
       "       [0.24854192],\n",
       "       [0.03976027],\n",
       "       [0.05242197],\n",
       "       [0.05661298],\n",
       "       [0.49242214],\n",
       "       [1.7200559 ],\n",
       "       [1.07766213],\n",
       "       [1.10564396],\n",
       "       [1.68406178],\n",
       "       [0.24834663],\n",
       "       [0.55836736],\n",
       "       [1.17151854],\n",
       "       [1.9391915 ],\n",
       "       [1.12206044],\n",
       "       [0.03729458],\n",
       "       [1.60126535],\n",
       "       [0.46594855],\n",
       "       [1.61421039],\n",
       "       [0.77572129],\n",
       "       [1.72708371],\n",
       "       [1.49424329],\n",
       "       [1.11248047],\n",
       "       [0.27291045],\n",
       "       [0.11983538],\n",
       "       [0.24268691],\n",
       "       [0.08910376],\n",
       "       [0.21498826],\n",
       "       [0.45141868],\n",
       "       [1.42597796],\n",
       "       [1.11943396],\n",
       "       [0.02511196],\n",
       "       [0.14394856],\n",
       "       [1.93455266],\n",
       "       [1.13620092],\n",
       "       [0.40658647],\n",
       "       [0.50465149],\n",
       "       [1.48765171],\n",
       "       [0.39085896],\n",
       "       [1.16271785],\n",
       "       [1.94003998],\n",
       "       [1.6936576 ],\n",
       "       [0.47969552],\n",
       "       [0.98753943],\n",
       "       [1.23991144],\n",
       "       [1.6579618 ],\n",
       "       [0.31358279],\n",
       "       [0.0371524 ],\n",
       "       [0.14004429],\n",
       "       [0.97269022],\n",
       "       [1.21265892],\n",
       "       [1.13770287],\n",
       "       [0.63472482],\n",
       "       [1.97723231],\n",
       "       [1.15949044],\n",
       "       [0.76028235],\n",
       "       [1.10189644],\n",
       "       [1.49066886],\n",
       "       [1.33846579],\n",
       "       [0.52983912],\n",
       "       [0.13266967],\n",
       "       [0.7401684 ],\n",
       "       [1.25943501],\n",
       "       [0.42034802],\n",
       "       [1.50551111],\n",
       "       [0.13307296],\n",
       "       [0.5206302 ],\n",
       "       [1.60950913],\n",
       "       [0.38686857],\n",
       "       [1.27892176],\n",
       "       [1.04934062],\n",
       "       [1.84961594],\n",
       "       [0.52659354],\n",
       "       [0.13192218],\n",
       "       [1.47013193],\n",
       "       [1.54435606],\n",
       "       [1.81563171],\n",
       "       [1.86394414],\n",
       "       [0.02790315],\n",
       "       [0.46872417],\n",
       "       [1.23355671],\n",
       "       [1.89803264]])"
      ]
     },
     "execution_count": 7,
     "metadata": {},
     "output_type": "execute_result"
    }
   ],
   "source": [
    "x"
   ]
  },
  {
   "cell_type": "code",
   "execution_count": 8,
   "id": "0afeea65-2035-43bd-887b-e7fcb49e7fd7",
   "metadata": {},
   "outputs": [],
   "source": [
    "#generating synthetic dp y\n",
    "y = 4 +3*X+1.5*X**2+np.random.randn(100, 1)"
   ]
  },
  {
   "cell_type": "code",
   "execution_count": 9,
   "id": "bdd2097e-3790-4463-bd75-a4c63c0fad6a",
   "metadata": {},
   "outputs": [
    {
     "data": {
      "text/plain": [
       "array([[ 7.62339727],\n",
       "       [12.05353148],\n",
       "       [ 4.23318089],\n",
       "       [ 7.04497675],\n",
       "       [ 4.69964232],\n",
       "       [ 2.1703523 ],\n",
       "       [ 6.36454307],\n",
       "       [ 8.97681731],\n",
       "       [ 7.76651586],\n",
       "       [ 8.87468601],\n",
       "       [ 7.43306659],\n",
       "       [10.8094174 ],\n",
       "       [ 5.49492724],\n",
       "       [12.77322728],\n",
       "       [ 3.65173158],\n",
       "       [ 9.72293833],\n",
       "       [ 7.79748776],\n",
       "       [ 8.92830376],\n",
       "       [ 5.45578391],\n",
       "       [ 5.24937097],\n",
       "       [13.63795379],\n",
       "       [15.64828623],\n",
       "       [ 8.66065309],\n",
       "       [ 9.1334384 ],\n",
       "       [13.2197659 ],\n",
       "       [15.07105337],\n",
       "       [ 7.08198608],\n",
       "       [ 3.99484558],\n",
       "       [ 5.23570574],\n",
       "       [13.66934632],\n",
       "       [ 5.97957071],\n",
       "       [ 7.30332768],\n",
       "       [15.93272113],\n",
       "       [ 8.58478144],\n",
       "       [ 9.75086757],\n",
       "       [ 6.80394219],\n",
       "       [11.44989152],\n",
       "       [14.48057999],\n",
       "       [ 4.0012894 ],\n",
       "       [11.25980279],\n",
       "       [16.36300515],\n",
       "       [12.0882421 ],\n",
       "       [ 6.43522203],\n",
       "       [12.40033442],\n",
       "       [ 5.84362826],\n",
       "       [ 8.26050554],\n",
       "       [16.30950646],\n",
       "       [ 7.3899972 ],\n",
       "       [ 6.8825897 ],\n",
       "       [ 3.25417767],\n",
       "       [ 4.7207715 ],\n",
       "       [11.25820149],\n",
       "       [ 6.34943913],\n",
       "       [ 7.06081222],\n",
       "       [ 7.99842579],\n",
       "       [ 5.16126626],\n",
       "       [ 8.86006635],\n",
       "       [ 6.96442517],\n",
       "       [ 8.28756765],\n",
       "       [ 9.37583217],\n",
       "       [ 3.02611932],\n",
       "       [ 6.62243451],\n",
       "       [ 9.94043502],\n",
       "       [ 9.47042132],\n",
       "       [ 3.98819334],\n",
       "       [ 7.59581239],\n",
       "       [11.74089083],\n",
       "       [ 8.09347552],\n",
       "       [13.78427068],\n",
       "       [10.45945006],\n",
       "       [14.94058379],\n",
       "       [ 4.50328731],\n",
       "       [ 6.35958549],\n",
       "       [12.88473347],\n",
       "       [ 8.95189182],\n",
       "       [ 5.65891813],\n",
       "       [16.28549002],\n",
       "       [ 6.92164441],\n",
       "       [10.66744111],\n",
       "       [13.96779501],\n",
       "       [13.43544028],\n",
       "       [ 9.87699751],\n",
       "       [11.18874333],\n",
       "       [ 6.62037592],\n",
       "       [ 6.29940319],\n",
       "       [14.39282018],\n",
       "       [ 8.32913983],\n",
       "       [17.16669639],\n",
       "       [10.50111214],\n",
       "       [ 8.816087  ],\n",
       "       [ 3.58515754],\n",
       "       [14.44036015],\n",
       "       [ 6.23980256],\n",
       "       [10.30257479],\n",
       "       [ 6.95006115],\n",
       "       [ 5.44826764],\n",
       "       [14.31495299],\n",
       "       [ 8.02010542],\n",
       "       [ 3.15595503],\n",
       "       [10.66278807]])"
      ]
     },
     "execution_count": 9,
     "metadata": {},
     "output_type": "execute_result"
    }
   ],
   "source": [
    "y"
   ]
  },
  {
   "cell_type": "code",
   "execution_count": 11,
   "id": "f5d708b9-96ac-4163-9bad-8317c4bc57f2",
   "metadata": {},
   "outputs": [],
   "source": [
    "#train test split\n",
    "from sklearn.model_selection import train_test_split\n"
   ]
  },
  {
   "cell_type": "code",
   "execution_count": 12,
   "id": "f66c2e2b-fc46-4cc1-bffe-054e82728be5",
   "metadata": {},
   "outputs": [],
   "source": [
    "x_test,x_train,y_test,y_train = train_test_split(x,y,test_size = 0.2,random_state = 42)"
   ]
  },
  {
   "cell_type": "code",
   "execution_count": 14,
   "id": "c4664d2c-46c9-4a70-886a-ef6c61247bf1",
   "metadata": {},
   "outputs": [
    {
     "data": {
      "text/plain": [
       "((20, 1), (80, 1))"
      ]
     },
     "execution_count": 14,
     "metadata": {},
     "output_type": "execute_result"
    }
   ],
   "source": [
    "x_train.shape, x_test.shape"
   ]
  },
  {
   "cell_type": "code",
   "execution_count": 15,
   "id": "1a091a2c-2bd0-4ac1-890b-1a0bd8c2cc21",
   "metadata": {},
   "outputs": [],
   "source": [
    "#perform polynomial regression\n",
    "from sklearn.preprocessing import PolynomialFeatures"
   ]
  },
  {
   "cell_type": "code",
   "execution_count": 18,
   "id": "07ce2d2b-5108-4661-91e8-87894bca20c9",
   "metadata": {},
   "outputs": [],
   "source": [
    "degree = 2\n",
    "poly_features = PolynomialFeatures(degree = 2, include_bias=False)\n",
    "x_poly_train = poly_features.fit_transform(x_train)"
   ]
  },
  {
   "cell_type": "code",
   "execution_count": 19,
   "id": "2c76dd8c-6136-486a-a4ba-79e6f080efea",
   "metadata": {},
   "outputs": [
    {
     "data": {
      "text/plain": [
       "array([[1.33072963e-01, 1.77084134e-02],\n",
       "       [4.06586469e-01, 1.65312557e-01],\n",
       "       [6.34724819e-01, 4.02875595e-01],\n",
       "       [2.14988258e-01, 4.62199512e-02],\n",
       "       [8.91037571e-02, 7.93947953e-03],\n",
       "       [1.49424329e+00, 2.23276300e+00],\n",
       "       [5.66129760e-02, 3.20502906e-03],\n",
       "       [1.25943501e+00, 1.58617655e+00],\n",
       "       [3.44681017e-01, 1.18805003e-01],\n",
       "       [6.53289804e-01, 4.26787567e-01],\n",
       "       [1.42304952e+00, 2.02506993e+00],\n",
       "       [1.17151854e+00, 1.37245570e+00],\n",
       "       [7.60282345e-01, 5.78029244e-01],\n",
       "       [3.72945787e-02, 1.39088560e-03],\n",
       "       [5.26593541e-01, 2.77300757e-01],\n",
       "       [1.81707030e+00, 3.30174448e+00],\n",
       "       [1.33846579e+00, 1.79149066e+00],\n",
       "       [5.29839115e-01, 2.80729488e-01],\n",
       "       [1.86519093e+00, 3.47893719e+00],\n",
       "       [1.93919150e+00, 3.76046366e+00]])"
      ]
     },
     "execution_count": 19,
     "metadata": {},
     "output_type": "execute_result"
    }
   ],
   "source": [
    "x_poly_train"
   ]
  },
  {
   "cell_type": "code",
   "execution_count": 23,
   "id": "9263b279-5ed0-4521-9b8f-c6e5d40ecbd2",
   "metadata": {},
   "outputs": [],
   "source": [
    "from sklearn.linear_model import LinearRegression"
   ]
  },
  {
   "cell_type": "code",
   "execution_count": 24,
   "id": "d1629399-ba88-4ecf-a773-4a99db5d7e91",
   "metadata": {},
   "outputs": [],
   "source": [
    "poly_reg = LinearRegression()"
   ]
  },
  {
   "cell_type": "code",
   "execution_count": 25,
   "id": "301c662f-99f2-4237-b10d-e9f0bc1b316f",
   "metadata": {},
   "outputs": [
    {
     "ename": "NameError",
     "evalue": "name 'ploy_reg' is not defined",
     "output_type": "error",
     "traceback": [
      "\u001b[0;31m---------------------------------------------------------------------------\u001b[0m",
      "\u001b[0;31mNameError\u001b[0m                                 Traceback (most recent call last)",
      "Cell \u001b[0;32mIn[25], line 1\u001b[0m\n\u001b[0;32m----> 1\u001b[0m \u001b[43mploy_reg\u001b[49m\n",
      "\u001b[0;31mNameError\u001b[0m: name 'ploy_reg' is not defined"
     ]
    }
   ],
   "source": [
    "ploy_reg"
   ]
  },
  {
   "cell_type": "code",
   "execution_count": 27,
   "id": "47c2c7ec-113e-4676-9479-f8aabef7d2ca",
   "metadata": {},
   "outputs": [
    {
     "data": {
      "text/html": [
       "<style>#sk-container-id-1 {color: black;background-color: white;}#sk-container-id-1 pre{padding: 0;}#sk-container-id-1 div.sk-toggleable {background-color: white;}#sk-container-id-1 label.sk-toggleable__label {cursor: pointer;display: block;width: 100%;margin-bottom: 0;padding: 0.3em;box-sizing: border-box;text-align: center;}#sk-container-id-1 label.sk-toggleable__label-arrow:before {content: \"▸\";float: left;margin-right: 0.25em;color: #696969;}#sk-container-id-1 label.sk-toggleable__label-arrow:hover:before {color: black;}#sk-container-id-1 div.sk-estimator:hover label.sk-toggleable__label-arrow:before {color: black;}#sk-container-id-1 div.sk-toggleable__content {max-height: 0;max-width: 0;overflow: hidden;text-align: left;background-color: #f0f8ff;}#sk-container-id-1 div.sk-toggleable__content pre {margin: 0.2em;color: black;border-radius: 0.25em;background-color: #f0f8ff;}#sk-container-id-1 input.sk-toggleable__control:checked~div.sk-toggleable__content {max-height: 200px;max-width: 100%;overflow: auto;}#sk-container-id-1 input.sk-toggleable__control:checked~label.sk-toggleable__label-arrow:before {content: \"▾\";}#sk-container-id-1 div.sk-estimator input.sk-toggleable__control:checked~label.sk-toggleable__label {background-color: #d4ebff;}#sk-container-id-1 div.sk-label input.sk-toggleable__control:checked~label.sk-toggleable__label {background-color: #d4ebff;}#sk-container-id-1 input.sk-hidden--visually {border: 0;clip: rect(1px 1px 1px 1px);clip: rect(1px, 1px, 1px, 1px);height: 1px;margin: -1px;overflow: hidden;padding: 0;position: absolute;width: 1px;}#sk-container-id-1 div.sk-estimator {font-family: monospace;background-color: #f0f8ff;border: 1px dotted black;border-radius: 0.25em;box-sizing: border-box;margin-bottom: 0.5em;}#sk-container-id-1 div.sk-estimator:hover {background-color: #d4ebff;}#sk-container-id-1 div.sk-parallel-item::after {content: \"\";width: 100%;border-bottom: 1px solid gray;flex-grow: 1;}#sk-container-id-1 div.sk-label:hover label.sk-toggleable__label {background-color: #d4ebff;}#sk-container-id-1 div.sk-serial::before {content: \"\";position: absolute;border-left: 1px solid gray;box-sizing: border-box;top: 0;bottom: 0;left: 50%;z-index: 0;}#sk-container-id-1 div.sk-serial {display: flex;flex-direction: column;align-items: center;background-color: white;padding-right: 0.2em;padding-left: 0.2em;position: relative;}#sk-container-id-1 div.sk-item {position: relative;z-index: 1;}#sk-container-id-1 div.sk-parallel {display: flex;align-items: stretch;justify-content: center;background-color: white;position: relative;}#sk-container-id-1 div.sk-item::before, #sk-container-id-1 div.sk-parallel-item::before {content: \"\";position: absolute;border-left: 1px solid gray;box-sizing: border-box;top: 0;bottom: 0;left: 50%;z-index: -1;}#sk-container-id-1 div.sk-parallel-item {display: flex;flex-direction: column;z-index: 1;position: relative;background-color: white;}#sk-container-id-1 div.sk-parallel-item:first-child::after {align-self: flex-end;width: 50%;}#sk-container-id-1 div.sk-parallel-item:last-child::after {align-self: flex-start;width: 50%;}#sk-container-id-1 div.sk-parallel-item:only-child::after {width: 0;}#sk-container-id-1 div.sk-dashed-wrapped {border: 1px dashed gray;margin: 0 0.4em 0.5em 0.4em;box-sizing: border-box;padding-bottom: 0.4em;background-color: white;}#sk-container-id-1 div.sk-label label {font-family: monospace;font-weight: bold;display: inline-block;line-height: 1.2em;}#sk-container-id-1 div.sk-label-container {text-align: center;}#sk-container-id-1 div.sk-container {/* jupyter's `normalize.less` sets `[hidden] { display: none; }` but bootstrap.min.css set `[hidden] { display: none !important; }` so we also need the `!important` here to be able to override the default hidden behavior on the sphinx rendered scikit-learn.org. See: https://github.com/scikit-learn/scikit-learn/issues/21755 */display: inline-block !important;position: relative;}#sk-container-id-1 div.sk-text-repr-fallback {display: none;}</style><div id=\"sk-container-id-1\" class=\"sk-top-container\"><div class=\"sk-text-repr-fallback\"><pre>LinearRegression()</pre><b>In a Jupyter environment, please rerun this cell to show the HTML representation or trust the notebook. <br />On GitHub, the HTML representation is unable to render, please try loading this page with nbviewer.org.</b></div><div class=\"sk-container\" hidden><div class=\"sk-item\"><div class=\"sk-estimator sk-toggleable\"><input class=\"sk-toggleable__control sk-hidden--visually\" id=\"sk-estimator-id-1\" type=\"checkbox\" checked><label for=\"sk-estimator-id-1\" class=\"sk-toggleable__label sk-toggleable__label-arrow\">LinearRegression</label><div class=\"sk-toggleable__content\"><pre>LinearRegression()</pre></div></div></div></div></div>"
      ],
      "text/plain": [
       "LinearRegression()"
      ]
     },
     "execution_count": 27,
     "metadata": {},
     "output_type": "execute_result"
    }
   ],
   "source": [
    "poly_reg.fit(x_poly_train, y_train)"
   ]
  },
  {
   "cell_type": "code",
   "execution_count": 28,
   "id": "613f4634-163f-4ca1-9be0-9a3349dfda24",
   "metadata": {},
   "outputs": [
    {
     "data": {
      "text/plain": [
       "array([[ 8.66982316, -4.41775357]])"
      ]
     },
     "execution_count": 28,
     "metadata": {},
     "output_type": "execute_result"
    }
   ],
   "source": [
    "poly_reg.coef_"
   ]
  },
  {
   "cell_type": "code",
   "execution_count": 30,
   "id": "3b09ad09-2826-4538-b313-eb4392fa5302",
   "metadata": {},
   "outputs": [
    {
     "data": {
      "text/plain": [
       "array([6.01143714])"
      ]
     },
     "execution_count": 30,
     "metadata": {},
     "output_type": "execute_result"
    }
   ],
   "source": [
    "poly_reg.intercept_\n"
   ]
  },
  {
   "cell_type": "code",
   "execution_count": 32,
   "id": "f8de1236-de55-4e10-b42a-f169d58dcba5",
   "metadata": {},
   "outputs": [],
   "source": [
    "#making prediction on train data itself\n",
    "y_poly_predict = poly_reg.predict(x_poly_train)"
   ]
  },
  {
   "cell_type": "code",
   "execution_count": 33,
   "id": "b146cc99-7c05-4aeb-a144-0fdd333d54c9",
   "metadata": {},
   "outputs": [],
   "source": [
    "from sklearn.metrics import mean_squared_error"
   ]
  },
  {
   "cell_type": "code",
   "execution_count": 34,
   "id": "874f48d1-ecb2-493c-bff1-43ad51d74402",
   "metadata": {},
   "outputs": [
    {
     "name": "stdout",
     "output_type": "stream",
     "text": [
      "Mean Squared Error on Training Data: 9.82016598486546\n"
     ]
    }
   ],
   "source": [
    "mse_train = mean_squared_error(y_train, y_poly_predict)\n",
    "print(f'Mean Squared Error on Training Data: {mse_train}')\n"
   ]
  },
  {
   "cell_type": "code",
   "execution_count": 36,
   "id": "6922e622-07c0-4236-ae74-f68bae93a9a7",
   "metadata": {},
   "outputs": [
    {
     "data": {
      "text/plain": [
       "<matplotlib.collections.PathCollection at 0x7f43de165bd0>"
      ]
     },
     "execution_count": 36,
     "metadata": {},
     "output_type": "execute_result"
    },
    {
     "data": {
      "image/png": "[encoded data removed]",
      "text/plain": [
       "<Figure size 640x480 with 1 Axes>"
      ]
     },
     "metadata": {},
     "output_type": "display_data"
    }
   ],
   "source": [
    "plt.scatter(x_train, y_train, label = \"training data\")"
   ]
  },
  {
   "cell_type": "code",
   "execution_count": 40,
   "id": "7d11d544-295a-42b9-9400-0c163eef8f02",
   "metadata": {},
   "outputs": [
    {
     "data": {
      "image/png": "[encoded data removed]",
      "text/plain": [
       "<Figure size 640x480 with 1 Axes>"
      ]
     },
     "metadata": {},
     "output_type": "display_data"
    }
   ],
   "source": [
    "plt.scatter(x_train, y_train, label = \"training data\")\n",
    "x_range = np.linspace(0, 2, 100).reshape(-1, 1)\n",
    "x_range_poly = poly_features.transform(x_range)\n",
    "plt.plot(X_range, poly_reg.predict(x_range_poly), color='red', label=f'Polynomial Regression (Degree {degree})')\n",
    "plt.xlabel('X')\n",
    "plt.ylabel('y')\n",
    "plt.title('Polynomial Regression')\n",
    "plt.legend()\n",
    "plt.show()"
   ]
  },
  {
   "cell_type": "code",
   "execution_count": null,
   "id": "6757b2d6-130b-430c-88b8-33974cd08727",
   "metadata": {},
   "outputs": [],
   "source": []
  }
 ],
 "metadata": {
  "kernelspec": {
   "display_name": "Python 3 (ipykernel)",
   "language": "python",
   "name": "python3"
  },
  "language_info": {
   "codemirror_mode": {
    "name": "ipython",
    "version": 3
   },
   "file_extension": ".py",
   "mimetype": "text/x-python",
   "name": "python",
   "nbconvert_exporter": "python",
   "pygments_lexer": "ipython3",
   "version": "3.10.8"
  }
 },
 "nbformat": 4,
 "nbformat_minor": 5
}
