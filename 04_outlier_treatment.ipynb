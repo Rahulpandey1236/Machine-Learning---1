{
 "cells": [
  {
   "cell_type": "code",
   "execution_count": 1,
   "id": "3aa98ca0-71d4-4d21-93d1-f60935099600",
   "metadata": {},
   "outputs": [],
   "source": [
    "#extreme values are outliers"
   ]
  },
  {
   "cell_type": "code",
   "execution_count": 3,
   "id": "b45e3e70-eea4-48ff-bf79-9c15a13f2486",
   "metadata": {},
   "outputs": [],
   "source": [
    "import numpy as np\n",
    "import pandas as pd\n",
    "import seaborn as sns\n",
    "import matplotlib.pyplot as plt\n",
    "import warnings\n",
    "warnings.filterwarnings(\"ignore\")\n",
    "\n",
    "salary = [11, 40, 45, 68, 65, 68, 78, 90, 57, 74, 91, 92, 88, 68, 57, 48, 99, 101, 68, 77, 110, 140]"
   ]
  },
  {
   "cell_type": "code",
   "execution_count": 6,
   "id": "018b5c1e-f631-4ab8-8d17-09f1fd0598ba",
   "metadata": {},
   "outputs": [
    {
     "data": {
      "text/plain": [
       "array([11.  , 59.  , 71.  , 90.75, 45.3 ])"
      ]
     },
     "execution_count": 6,
     "metadata": {},
     "output_type": "execute_result"
    }
   ],
   "source": [
    "#five points summary\n",
    "#min, 25th, 50th, 75th, 100th \n",
    "np.quantile(salary,[0,0.25,.50,.75,.1])"
   ]
  },
  {
   "cell_type": "code",
   "execution_count": 8,
   "id": "7e5fe4df-05cc-47f3-b884-b7200d296e73",
   "metadata": {},
   "outputs": [],
   "source": [
    "df = pd.DataFrame(salary,columns=['salary'])"
   ]
  },
  {
   "cell_type": "code",
   "execution_count": 9,
   "id": "51bb4cde-e4f9-40ed-a62b-0b9daa83f31b",
   "metadata": {},
   "outputs": [
    {
     "data": {
      "text/html": [
       "<div>\n",
       "<style scoped>\n",
       "    .dataframe tbody tr th:only-of-type {\n",
       "        vertical-align: middle;\n",
       "    }\n",
       "\n",
       "    .dataframe tbody tr th {\n",
       "        vertical-align: top;\n",
       "    }\n",
       "\n",
       "    .dataframe thead th {\n",
       "        text-align: right;\n",
       "    }\n",
       "</style>\n",
       "<table border=\"1\" class=\"dataframe\">\n",
       "  <thead>\n",
       "    <tr style=\"text-align: right;\">\n",
       "      <th></th>\n",
       "      <th>salary</th>\n",
       "    </tr>\n",
       "  </thead>\n",
       "  <tbody>\n",
       "    <tr>\n",
       "      <th>0</th>\n",
       "      <td>11</td>\n",
       "    </tr>\n",
       "    <tr>\n",
       "      <th>1</th>\n",
       "      <td>40</td>\n",
       "    </tr>\n",
       "    <tr>\n",
       "      <th>2</th>\n",
       "      <td>45</td>\n",
       "    </tr>\n",
       "    <tr>\n",
       "      <th>3</th>\n",
       "      <td>68</td>\n",
       "    </tr>\n",
       "    <tr>\n",
       "      <th>4</th>\n",
       "      <td>65</td>\n",
       "    </tr>\n",
       "    <tr>\n",
       "      <th>5</th>\n",
       "      <td>68</td>\n",
       "    </tr>\n",
       "    <tr>\n",
       "      <th>6</th>\n",
       "      <td>78</td>\n",
       "    </tr>\n",
       "    <tr>\n",
       "      <th>7</th>\n",
       "      <td>90</td>\n",
       "    </tr>\n",
       "    <tr>\n",
       "      <th>8</th>\n",
       "      <td>57</td>\n",
       "    </tr>\n",
       "    <tr>\n",
       "      <th>9</th>\n",
       "      <td>74</td>\n",
       "    </tr>\n",
       "    <tr>\n",
       "      <th>10</th>\n",
       "      <td>91</td>\n",
       "    </tr>\n",
       "    <tr>\n",
       "      <th>11</th>\n",
       "      <td>92</td>\n",
       "    </tr>\n",
       "    <tr>\n",
       "      <th>12</th>\n",
       "      <td>88</td>\n",
       "    </tr>\n",
       "    <tr>\n",
       "      <th>13</th>\n",
       "      <td>68</td>\n",
       "    </tr>\n",
       "    <tr>\n",
       "      <th>14</th>\n",
       "      <td>57</td>\n",
       "    </tr>\n",
       "    <tr>\n",
       "      <th>15</th>\n",
       "      <td>48</td>\n",
       "    </tr>\n",
       "    <tr>\n",
       "      <th>16</th>\n",
       "      <td>99</td>\n",
       "    </tr>\n",
       "    <tr>\n",
       "      <th>17</th>\n",
       "      <td>101</td>\n",
       "    </tr>\n",
       "    <tr>\n",
       "      <th>18</th>\n",
       "      <td>68</td>\n",
       "    </tr>\n",
       "    <tr>\n",
       "      <th>19</th>\n",
       "      <td>77</td>\n",
       "    </tr>\n",
       "    <tr>\n",
       "      <th>20</th>\n",
       "      <td>110</td>\n",
       "    </tr>\n",
       "    <tr>\n",
       "      <th>21</th>\n",
       "      <td>140</td>\n",
       "    </tr>\n",
       "  </tbody>\n",
       "</table>\n",
       "</div>"
      ],
      "text/plain": [
       "    salary\n",
       "0       11\n",
       "1       40\n",
       "2       45\n",
       "3       68\n",
       "4       65\n",
       "5       68\n",
       "6       78\n",
       "7       90\n",
       "8       57\n",
       "9       74\n",
       "10      91\n",
       "11      92\n",
       "12      88\n",
       "13      68\n",
       "14      57\n",
       "15      48\n",
       "16      99\n",
       "17     101\n",
       "18      68\n",
       "19      77\n",
       "20     110\n",
       "21     140"
      ]
     },
     "execution_count": 9,
     "metadata": {},
     "output_type": "execute_result"
    }
   ],
   "source": [
    "df\n"
   ]
  },
  {
   "cell_type": "code",
   "execution_count": 12,
   "id": "039cfefb-8221-4df5-b922-ff68eefb957e",
   "metadata": {},
   "outputs": [
    {
     "data": {
      "text/html": [
       "<div>\n",
       "<style scoped>\n",
       "    .dataframe tbody tr th:only-of-type {\n",
       "        vertical-align: middle;\n",
       "    }\n",
       "\n",
       "    .dataframe tbody tr th {\n",
       "        vertical-align: top;\n",
       "    }\n",
       "\n",
       "    .dataframe thead th {\n",
       "        text-align: right;\n",
       "    }\n",
       "</style>\n",
       "<table border=\"1\" class=\"dataframe\">\n",
       "  <thead>\n",
       "    <tr style=\"text-align: right;\">\n",
       "      <th></th>\n",
       "      <th>salary</th>\n",
       "    </tr>\n",
       "  </thead>\n",
       "  <tbody>\n",
       "    <tr>\n",
       "      <th>count</th>\n",
       "      <td>22.000000</td>\n",
       "    </tr>\n",
       "    <tr>\n",
       "      <th>mean</th>\n",
       "      <td>74.318182</td>\n",
       "    </tr>\n",
       "    <tr>\n",
       "      <th>std</th>\n",
       "      <td>27.201867</td>\n",
       "    </tr>\n",
       "    <tr>\n",
       "      <th>min</th>\n",
       "      <td>11.000000</td>\n",
       "    </tr>\n",
       "    <tr>\n",
       "      <th>25%</th>\n",
       "      <td>59.000000</td>\n",
       "    </tr>\n",
       "    <tr>\n",
       "      <th>50%</th>\n",
       "      <td>71.000000</td>\n",
       "    </tr>\n",
       "    <tr>\n",
       "      <th>75%</th>\n",
       "      <td>90.750000</td>\n",
       "    </tr>\n",
       "    <tr>\n",
       "      <th>max</th>\n",
       "      <td>140.000000</td>\n",
       "    </tr>\n",
       "  </tbody>\n",
       "</table>\n",
       "</div>"
      ],
      "text/plain": [
       "           salary\n",
       "count   22.000000\n",
       "mean    74.318182\n",
       "std     27.201867\n",
       "min     11.000000\n",
       "25%     59.000000\n",
       "50%     71.000000\n",
       "75%     90.750000\n",
       "max    140.000000"
      ]
     },
     "execution_count": 12,
     "metadata": {},
     "output_type": "execute_result"
    }
   ],
   "source": [
    "df.describe()"
   ]
  },
  {
   "cell_type": "code",
   "execution_count": 13,
   "id": "000c6c7e-3fb1-4eba-88b6-28754541f210",
   "metadata": {},
   "outputs": [],
   "source": [
    "#To check outlier >> distplot, boxplot"
   ]
  },
  {
   "cell_type": "code",
   "execution_count": 18,
   "id": "d19da35d-16aa-4f75-ae5d-7ded5eb2aaca",
   "metadata": {},
   "outputs": [
    {
     "data": {
      "text/plain": [
       "Text(0.5, 1.0, 'box plot')"
      ]
     },
     "execution_count": 18,
     "metadata": {},
     "output_type": "execute_result"
    },
    {
     "data": {
      "image/png": "[encoded data removed]",
      "text/plain": [
       "<Figure size 1200x500 with 2 Axes>"
      ]
     },
     "metadata": {},
     "output_type": "display_data"
    }
   ],
   "source": [
    "plt.figure(figsize = (12,5))\n",
    "plt.subplot(1,2,1)\n",
    "sns.histplot(salary,kde = True)\n",
    "plt.title(\"hist plot\")\n",
    "\n",
    "plt.subplot(1,2,2)\n",
    "sns.boxplot(x = 'salary',data = df)\n",
    "plt.title(\"box plot\")"
   ]
  },
  {
   "cell_type": "code",
   "execution_count": 19,
   "id": "39634370-cc12-4488-ac67-31fe9fa7fe35",
   "metadata": {},
   "outputs": [],
   "source": [
    "#Dropping the outlier\n",
    "#Capping the outlier\n",
    "#replace with mean/median"
   ]
  },
  {
   "cell_type": "code",
   "execution_count": 20,
   "id": "b384772d-136e-45c1-95f5-230a1ce2ed3f",
   "metadata": {},
   "outputs": [],
   "source": [
    "#dropping the outlier\n",
    "q1 = df['salary'].quantile(0.25)\n",
    "q3 = df['salary'].quantile(0.75)\n",
    "\n",
    "IQR = q3 - q1\n",
    "\n",
    "lower_fence = q1 - 1.5 * IQR\n",
    "upper_fence = q1 + 1.5 * IQR"
   ]
  },
  {
   "cell_type": "code",
   "execution_count": 21,
   "id": "355fe968-b9b2-4ada-9e00-a99443cdf366",
   "metadata": {},
   "outputs": [
    {
     "data": {
      "text/plain": [
       "11.375"
      ]
     },
     "execution_count": 21,
     "metadata": {},
     "output_type": "execute_result"
    }
   ],
   "source": [
    "lower_fence"
   ]
  },
  {
   "cell_type": "code",
   "execution_count": 22,
   "id": "0799ebc5-e4eb-45e7-9a24-2b3bf7e5d443",
   "metadata": {},
   "outputs": [
    {
     "data": {
      "text/plain": [
       "106.625"
      ]
     },
     "execution_count": 22,
     "metadata": {},
     "output_type": "execute_result"
    }
   ],
   "source": [
    "upper_fence"
   ]
  },
  {
   "cell_type": "code",
   "execution_count": 23,
   "id": "fa2b5a1d-c482-4203-b173-92522915d057",
   "metadata": {},
   "outputs": [],
   "source": [
    "df_filtered = df[(df.salary >= lower_fence ) & (df.salary<= upper_fence)]"
   ]
  },
  {
   "cell_type": "code",
   "execution_count": 25,
   "id": "c7f42d27-a5de-4268-9a26-484968d34761",
   "metadata": {},
   "outputs": [
    {
     "data": {
      "text/html": [
       "<div>\n",
       "<style scoped>\n",
       "    .dataframe tbody tr th:only-of-type {\n",
       "        vertical-align: middle;\n",
       "    }\n",
       "\n",
       "    .dataframe tbody tr th {\n",
       "        vertical-align: top;\n",
       "    }\n",
       "\n",
       "    .dataframe thead th {\n",
       "        text-align: right;\n",
       "    }\n",
       "</style>\n",
       "<table border=\"1\" class=\"dataframe\">\n",
       "  <thead>\n",
       "    <tr style=\"text-align: right;\">\n",
       "      <th></th>\n",
       "      <th>salary</th>\n",
       "    </tr>\n",
       "  </thead>\n",
       "  <tbody>\n",
       "    <tr>\n",
       "      <th>1</th>\n",
       "      <td>40</td>\n",
       "    </tr>\n",
       "    <tr>\n",
       "      <th>2</th>\n",
       "      <td>45</td>\n",
       "    </tr>\n",
       "    <tr>\n",
       "      <th>3</th>\n",
       "      <td>68</td>\n",
       "    </tr>\n",
       "    <tr>\n",
       "      <th>4</th>\n",
       "      <td>65</td>\n",
       "    </tr>\n",
       "    <tr>\n",
       "      <th>5</th>\n",
       "      <td>68</td>\n",
       "    </tr>\n",
       "    <tr>\n",
       "      <th>6</th>\n",
       "      <td>78</td>\n",
       "    </tr>\n",
       "    <tr>\n",
       "      <th>7</th>\n",
       "      <td>90</td>\n",
       "    </tr>\n",
       "    <tr>\n",
       "      <th>8</th>\n",
       "      <td>57</td>\n",
       "    </tr>\n",
       "    <tr>\n",
       "      <th>9</th>\n",
       "      <td>74</td>\n",
       "    </tr>\n",
       "    <tr>\n",
       "      <th>10</th>\n",
       "      <td>91</td>\n",
       "    </tr>\n",
       "    <tr>\n",
       "      <th>11</th>\n",
       "      <td>92</td>\n",
       "    </tr>\n",
       "    <tr>\n",
       "      <th>12</th>\n",
       "      <td>88</td>\n",
       "    </tr>\n",
       "    <tr>\n",
       "      <th>13</th>\n",
       "      <td>68</td>\n",
       "    </tr>\n",
       "    <tr>\n",
       "      <th>14</th>\n",
       "      <td>57</td>\n",
       "    </tr>\n",
       "    <tr>\n",
       "      <th>15</th>\n",
       "      <td>48</td>\n",
       "    </tr>\n",
       "    <tr>\n",
       "      <th>16</th>\n",
       "      <td>99</td>\n",
       "    </tr>\n",
       "    <tr>\n",
       "      <th>17</th>\n",
       "      <td>101</td>\n",
       "    </tr>\n",
       "    <tr>\n",
       "      <th>18</th>\n",
       "      <td>68</td>\n",
       "    </tr>\n",
       "    <tr>\n",
       "      <th>19</th>\n",
       "      <td>77</td>\n",
       "    </tr>\n",
       "  </tbody>\n",
       "</table>\n",
       "</div>"
      ],
      "text/plain": [
       "    salary\n",
       "1       40\n",
       "2       45\n",
       "3       68\n",
       "4       65\n",
       "5       68\n",
       "6       78\n",
       "7       90\n",
       "8       57\n",
       "9       74\n",
       "10      91\n",
       "11      92\n",
       "12      88\n",
       "13      68\n",
       "14      57\n",
       "15      48\n",
       "16      99\n",
       "17     101\n",
       "18      68\n",
       "19      77"
      ]
     },
     "execution_count": 25,
     "metadata": {},
     "output_type": "execute_result"
    }
   ],
   "source": [
    "df_filtered"
   ]
  },
  {
   "cell_type": "code",
   "execution_count": 27,
   "id": "ec97cf20-b5b6-42ae-a3f3-c373ef2568ed",
   "metadata": {},
   "outputs": [
    {
     "data": {
      "text/plain": [
       "(19, 1)"
      ]
     },
     "execution_count": 27,
     "metadata": {},
     "output_type": "execute_result"
    }
   ],
   "source": [
    "df_filtered.shape"
   ]
  },
  {
   "cell_type": "code",
   "execution_count": 28,
   "id": "feb1b057-6ea7-41d6-b0c3-2444a45519b8",
   "metadata": {},
   "outputs": [
    {
     "data": {
      "text/plain": [
       "Text(0.5, 1.0, 'box plot')"
      ]
     },
     "execution_count": 28,
     "metadata": {},
     "output_type": "execute_result"
    },
    {
     "data": {
      "image/png": "[encoded data removed]",
      "text/plain": [
       "<Figure size 1200x500 with 2 Axes>"
      ]
     },
     "metadata": {},
     "output_type": "display_data"
    }
   ],
   "source": [
    "plt.figure(figsize = (12,5))\n",
    "plt.subplot(1,2,1)\n",
    "sns.histplot(df_filtered['salary'],kde = True)\n",
    "plt.title(\"hist plot\")\n",
    "\n",
    "plt.subplot(1,2,2)\n",
    "sns.boxplot(x = 'salary',data = df_filtered)\n",
    "plt.title(\"box plot\")"
   ]
  },
  {
   "cell_type": "code",
   "execution_count": 30,
   "id": "92e6ad82-2c89-40fc-a1b5-4f1c08f3ef79",
   "metadata": {},
   "outputs": [],
   "source": [
    "#imputation with mean and median\n",
    "df['salary_imputed_mean'] = np.where((df.salary>= upper_fence) |  (df.salary<=lower_fence),df['salary'].mean(),df['salary'])"
   ]
  },
  {
   "cell_type": "code",
   "execution_count": 31,
   "id": "3bd2fee0-bd88-4ad8-a647-dc34ae66f9e0",
   "metadata": {},
   "outputs": [
    {
     "data": {
      "text/plain": [
       "0      74.318182\n",
       "1      40.000000\n",
       "2      45.000000\n",
       "3      68.000000\n",
       "4      65.000000\n",
       "5      68.000000\n",
       "6      78.000000\n",
       "7      90.000000\n",
       "8      57.000000\n",
       "9      74.000000\n",
       "10     91.000000\n",
       "11     92.000000\n",
       "12     88.000000\n",
       "13     68.000000\n",
       "14     57.000000\n",
       "15     48.000000\n",
       "16     99.000000\n",
       "17    101.000000\n",
       "18     68.000000\n",
       "19     77.000000\n",
       "20     74.318182\n",
       "21     74.318182\n",
       "Name: salary_imputed_mean, dtype: float64"
      ]
     },
     "execution_count": 31,
     "metadata": {},
     "output_type": "execute_result"
    }
   ],
   "source": [
    "df['salary_imputed_mean']"
   ]
  },
  {
   "cell_type": "code",
   "execution_count": 33,
   "id": "c3441489-010b-4b6f-9505-e7d8ccf858cd",
   "metadata": {},
   "outputs": [
    {
     "data": {
      "text/plain": [
       "Text(0.5, 1.0, 'box plot')"
      ]
     },
     "execution_count": 33,
     "metadata": {},
     "output_type": "execute_result"
    },
    {
     "data": {
      "image/png": "[encoded data removed]",
      "text/plain": [
       "<Figure size 1200x500 with 2 Axes>"
      ]
     },
     "metadata": {},
     "output_type": "display_data"
    }
   ],
   "source": [
    "plt.figure(figsize = (12,5))\n",
    "plt.subplot(1,2,1)\n",
    "sns.histplot(df['salary_imputed_mean'],kde = True)\n",
    "plt.title(\"hist plot\")\n",
    "\n",
    "plt.subplot(1,2,2)\n",
    "sns.boxplot(x = 'salary_imputed_mean',data = df)\n",
    "plt.title(\"box plot\")"
   ]
  },
  {
   "cell_type": "code",
   "execution_count": 34,
   "id": "769e4571-6985-43d7-94e7-bcaa720e2532",
   "metadata": {},
   "outputs": [],
   "source": [
    "df['salary_imputed_median'] = np.where((df.salary>= upper_fence) |  (df.salary<=lower_fence),df['salary'].median(),df['salary'])"
   ]
  },
  {
   "cell_type": "code",
   "execution_count": 35,
   "id": "0f16e89d-3307-4f3b-bf5b-2e63000961c4",
   "metadata": {},
   "outputs": [
    {
     "data": {
      "text/plain": [
       "0      71.0\n",
       "1      40.0\n",
       "2      45.0\n",
       "3      68.0\n",
       "4      65.0\n",
       "5      68.0\n",
       "6      78.0\n",
       "7      90.0\n",
       "8      57.0\n",
       "9      74.0\n",
       "10     91.0\n",
       "11     92.0\n",
       "12     88.0\n",
       "13     68.0\n",
       "14     57.0\n",
       "15     48.0\n",
       "16     99.0\n",
       "17    101.0\n",
       "18     68.0\n",
       "19     77.0\n",
       "20     71.0\n",
       "21     71.0\n",
       "Name: salary_imputed_median, dtype: float64"
      ]
     },
     "execution_count": 35,
     "metadata": {},
     "output_type": "execute_result"
    }
   ],
   "source": [
    "df['salary_imputed_median'] "
   ]
  },
  {
   "cell_type": "code",
   "execution_count": 36,
   "id": "7f97ac2e-238e-455a-b3b7-8f9ca019fbb4",
   "metadata": {},
   "outputs": [
    {
     "data": {
      "text/plain": [
       "Text(0.5, 1.0, 'box plot')"
      ]
     },
     "execution_count": 36,
     "metadata": {},
     "output_type": "execute_result"
    },
    {
     "data": {
      "image/png": "[encoded data removed]",
      "text/plain": [
       "<Figure size 1200x500 with 2 Axes>"
      ]
     },
     "metadata": {},
     "output_type": "display_data"
    }
   ],
   "source": [
    "plt.figure(figsize = (12,5))\n",
    "plt.subplot(1,2,1)\n",
    "sns.histplot(df['salary_imputed_median'],kde = True)\n",
    "plt.title(\"hist plot\")\n",
    "\n",
    "plt.subplot(1,2,2)\n",
    "sns.boxplot(x = 'salary_imputed_median',data = df)\n",
    "plt.title(\"box plot\")"
   ]
  },
  {
   "cell_type": "code",
   "execution_count": 37,
   "id": "8497caff-122d-4f05-8262-555a615a0b66",
   "metadata": {},
   "outputs": [
    {
     "data": {
      "text/html": [
       "<div>\n",
       "<style scoped>\n",
       "    .dataframe tbody tr th:only-of-type {\n",
       "        vertical-align: middle;\n",
       "    }\n",
       "\n",
       "    .dataframe tbody tr th {\n",
       "        vertical-align: top;\n",
       "    }\n",
       "\n",
       "    .dataframe thead th {\n",
       "        text-align: right;\n",
       "    }\n",
       "</style>\n",
       "<table border=\"1\" class=\"dataframe\">\n",
       "  <thead>\n",
       "    <tr style=\"text-align: right;\">\n",
       "      <th></th>\n",
       "      <th>salary</th>\n",
       "      <th>salary_imputed_mean</th>\n",
       "      <th>salary_imputed_median</th>\n",
       "    </tr>\n",
       "  </thead>\n",
       "  <tbody>\n",
       "    <tr>\n",
       "      <th>0</th>\n",
       "      <td>11</td>\n",
       "      <td>74.318182</td>\n",
       "      <td>71.0</td>\n",
       "    </tr>\n",
       "    <tr>\n",
       "      <th>1</th>\n",
       "      <td>40</td>\n",
       "      <td>40.000000</td>\n",
       "      <td>40.0</td>\n",
       "    </tr>\n",
       "    <tr>\n",
       "      <th>2</th>\n",
       "      <td>45</td>\n",
       "      <td>45.000000</td>\n",
       "      <td>45.0</td>\n",
       "    </tr>\n",
       "    <tr>\n",
       "      <th>3</th>\n",
       "      <td>68</td>\n",
       "      <td>68.000000</td>\n",
       "      <td>68.0</td>\n",
       "    </tr>\n",
       "    <tr>\n",
       "      <th>4</th>\n",
       "      <td>65</td>\n",
       "      <td>65.000000</td>\n",
       "      <td>65.0</td>\n",
       "    </tr>\n",
       "    <tr>\n",
       "      <th>5</th>\n",
       "      <td>68</td>\n",
       "      <td>68.000000</td>\n",
       "      <td>68.0</td>\n",
       "    </tr>\n",
       "    <tr>\n",
       "      <th>6</th>\n",
       "      <td>78</td>\n",
       "      <td>78.000000</td>\n",
       "      <td>78.0</td>\n",
       "    </tr>\n",
       "    <tr>\n",
       "      <th>7</th>\n",
       "      <td>90</td>\n",
       "      <td>90.000000</td>\n",
       "      <td>90.0</td>\n",
       "    </tr>\n",
       "    <tr>\n",
       "      <th>8</th>\n",
       "      <td>57</td>\n",
       "      <td>57.000000</td>\n",
       "      <td>57.0</td>\n",
       "    </tr>\n",
       "    <tr>\n",
       "      <th>9</th>\n",
       "      <td>74</td>\n",
       "      <td>74.000000</td>\n",
       "      <td>74.0</td>\n",
       "    </tr>\n",
       "    <tr>\n",
       "      <th>10</th>\n",
       "      <td>91</td>\n",
       "      <td>91.000000</td>\n",
       "      <td>91.0</td>\n",
       "    </tr>\n",
       "    <tr>\n",
       "      <th>11</th>\n",
       "      <td>92</td>\n",
       "      <td>92.000000</td>\n",
       "      <td>92.0</td>\n",
       "    </tr>\n",
       "    <tr>\n",
       "      <th>12</th>\n",
       "      <td>88</td>\n",
       "      <td>88.000000</td>\n",
       "      <td>88.0</td>\n",
       "    </tr>\n",
       "    <tr>\n",
       "      <th>13</th>\n",
       "      <td>68</td>\n",
       "      <td>68.000000</td>\n",
       "      <td>68.0</td>\n",
       "    </tr>\n",
       "    <tr>\n",
       "      <th>14</th>\n",
       "      <td>57</td>\n",
       "      <td>57.000000</td>\n",
       "      <td>57.0</td>\n",
       "    </tr>\n",
       "    <tr>\n",
       "      <th>15</th>\n",
       "      <td>48</td>\n",
       "      <td>48.000000</td>\n",
       "      <td>48.0</td>\n",
       "    </tr>\n",
       "    <tr>\n",
       "      <th>16</th>\n",
       "      <td>99</td>\n",
       "      <td>99.000000</td>\n",
       "      <td>99.0</td>\n",
       "    </tr>\n",
       "    <tr>\n",
       "      <th>17</th>\n",
       "      <td>101</td>\n",
       "      <td>101.000000</td>\n",
       "      <td>101.0</td>\n",
       "    </tr>\n",
       "    <tr>\n",
       "      <th>18</th>\n",
       "      <td>68</td>\n",
       "      <td>68.000000</td>\n",
       "      <td>68.0</td>\n",
       "    </tr>\n",
       "    <tr>\n",
       "      <th>19</th>\n",
       "      <td>77</td>\n",
       "      <td>77.000000</td>\n",
       "      <td>77.0</td>\n",
       "    </tr>\n",
       "    <tr>\n",
       "      <th>20</th>\n",
       "      <td>110</td>\n",
       "      <td>74.318182</td>\n",
       "      <td>71.0</td>\n",
       "    </tr>\n",
       "    <tr>\n",
       "      <th>21</th>\n",
       "      <td>140</td>\n",
       "      <td>74.318182</td>\n",
       "      <td>71.0</td>\n",
       "    </tr>\n",
       "  </tbody>\n",
       "</table>\n",
       "</div>"
      ],
      "text/plain": [
       "    salary  salary_imputed_mean  salary_imputed_median\n",
       "0       11            74.318182                   71.0\n",
       "1       40            40.000000                   40.0\n",
       "2       45            45.000000                   45.0\n",
       "3       68            68.000000                   68.0\n",
       "4       65            65.000000                   65.0\n",
       "5       68            68.000000                   68.0\n",
       "6       78            78.000000                   78.0\n",
       "7       90            90.000000                   90.0\n",
       "8       57            57.000000                   57.0\n",
       "9       74            74.000000                   74.0\n",
       "10      91            91.000000                   91.0\n",
       "11      92            92.000000                   92.0\n",
       "12      88            88.000000                   88.0\n",
       "13      68            68.000000                   68.0\n",
       "14      57            57.000000                   57.0\n",
       "15      48            48.000000                   48.0\n",
       "16      99            99.000000                   99.0\n",
       "17     101           101.000000                  101.0\n",
       "18      68            68.000000                   68.0\n",
       "19      77            77.000000                   77.0\n",
       "20     110            74.318182                   71.0\n",
       "21     140            74.318182                   71.0"
      ]
     },
     "execution_count": 37,
     "metadata": {},
     "output_type": "execute_result"
    }
   ],
   "source": [
    "#Capping >> replacing with the nearest value which is not outlier\n",
    "df"
   ]
  },
  {
   "cell_type": "code",
   "execution_count": 38,
   "id": "1900fc79-ec80-433e-9175-7aacda4a2f59",
   "metadata": {},
   "outputs": [],
   "source": [
    "lower_cap = df['salary'].quantile(0.05)\n",
    "upper_cap = df['salary'].quantile(0.95)"
   ]
  },
  {
   "cell_type": "code",
   "execution_count": 39,
   "id": "02e4d94c-ae36-4438-a179-74f36dfe3920",
   "metadata": {},
   "outputs": [
    {
     "data": {
      "text/plain": [
       "40.25"
      ]
     },
     "execution_count": 39,
     "metadata": {},
     "output_type": "execute_result"
    }
   ],
   "source": [
    "lower_cap"
   ]
  },
  {
   "cell_type": "code",
   "execution_count": 40,
   "id": "1734bbd4-0be2-4634-8d95-66f086b09a37",
   "metadata": {},
   "outputs": [
    {
     "data": {
      "text/plain": [
       "109.55"
      ]
     },
     "execution_count": 40,
     "metadata": {},
     "output_type": "execute_result"
    }
   ],
   "source": [
    "upper_cap"
   ]
  },
  {
   "cell_type": "code",
   "execution_count": 41,
   "id": "1ccfb171-1eeb-471b-9453-914dd7e45afa",
   "metadata": {},
   "outputs": [],
   "source": [
    "#replace outliers with the cap"
   ]
  },
  {
   "cell_type": "code",
   "execution_count": 44,
   "id": "a713c337-b400-4165-b62a-ff7698d48c33",
   "metadata": {},
   "outputs": [],
   "source": [
    "df['salary_capped'] = np.where(df['salary']<lower_cap,lower_cap,np.where(df['salary']>upper_cap,upper_cap,df['salary']))"
   ]
  },
  {
   "cell_type": "code",
   "execution_count": 45,
   "id": "b4e43bf9-62db-435a-9483-42b03e7b7a1c",
   "metadata": {},
   "outputs": [
    {
     "data": {
      "text/plain": [
       "0      40.25\n",
       "1      40.25\n",
       "2      45.00\n",
       "3      68.00\n",
       "4      65.00\n",
       "5      68.00\n",
       "6      78.00\n",
       "7      90.00\n",
       "8      57.00\n",
       "9      74.00\n",
       "10     91.00\n",
       "11     92.00\n",
       "12     88.00\n",
       "13     68.00\n",
       "14     57.00\n",
       "15     48.00\n",
       "16     99.00\n",
       "17    101.00\n",
       "18     68.00\n",
       "19     77.00\n",
       "20    109.55\n",
       "21    109.55\n",
       "Name: salary_capped, dtype: float64"
      ]
     },
     "execution_count": 45,
     "metadata": {},
     "output_type": "execute_result"
    }
   ],
   "source": [
    "df['salary_capped']"
   ]
  },
  {
   "cell_type": "code",
   "execution_count": 46,
   "id": "cd6db5f9-0ce2-4da2-954d-59cc5d5e8d1f",
   "metadata": {},
   "outputs": [
    {
     "data": {
      "text/html": [
       "<div>\n",
       "<style scoped>\n",
       "    .dataframe tbody tr th:only-of-type {\n",
       "        vertical-align: middle;\n",
       "    }\n",
       "\n",
       "    .dataframe tbody tr th {\n",
       "        vertical-align: top;\n",
       "    }\n",
       "\n",
       "    .dataframe thead th {\n",
       "        text-align: right;\n",
       "    }\n",
       "</style>\n",
       "<table border=\"1\" class=\"dataframe\">\n",
       "  <thead>\n",
       "    <tr style=\"text-align: right;\">\n",
       "      <th></th>\n",
       "      <th>salary</th>\n",
       "      <th>salary_imputed_mean</th>\n",
       "      <th>salary_imputed_median</th>\n",
       "      <th>salary_capped</th>\n",
       "    </tr>\n",
       "  </thead>\n",
       "  <tbody>\n",
       "    <tr>\n",
       "      <th>0</th>\n",
       "      <td>11</td>\n",
       "      <td>74.318182</td>\n",
       "      <td>71.0</td>\n",
       "      <td>40.25</td>\n",
       "    </tr>\n",
       "    <tr>\n",
       "      <th>1</th>\n",
       "      <td>40</td>\n",
       "      <td>40.000000</td>\n",
       "      <td>40.0</td>\n",
       "      <td>40.25</td>\n",
       "    </tr>\n",
       "    <tr>\n",
       "      <th>2</th>\n",
       "      <td>45</td>\n",
       "      <td>45.000000</td>\n",
       "      <td>45.0</td>\n",
       "      <td>45.00</td>\n",
       "    </tr>\n",
       "    <tr>\n",
       "      <th>3</th>\n",
       "      <td>68</td>\n",
       "      <td>68.000000</td>\n",
       "      <td>68.0</td>\n",
       "      <td>68.00</td>\n",
       "    </tr>\n",
       "    <tr>\n",
       "      <th>4</th>\n",
       "      <td>65</td>\n",
       "      <td>65.000000</td>\n",
       "      <td>65.0</td>\n",
       "      <td>65.00</td>\n",
       "    </tr>\n",
       "    <tr>\n",
       "      <th>5</th>\n",
       "      <td>68</td>\n",
       "      <td>68.000000</td>\n",
       "      <td>68.0</td>\n",
       "      <td>68.00</td>\n",
       "    </tr>\n",
       "    <tr>\n",
       "      <th>6</th>\n",
       "      <td>78</td>\n",
       "      <td>78.000000</td>\n",
       "      <td>78.0</td>\n",
       "      <td>78.00</td>\n",
       "    </tr>\n",
       "    <tr>\n",
       "      <th>7</th>\n",
       "      <td>90</td>\n",
       "      <td>90.000000</td>\n",
       "      <td>90.0</td>\n",
       "      <td>90.00</td>\n",
       "    </tr>\n",
       "    <tr>\n",
       "      <th>8</th>\n",
       "      <td>57</td>\n",
       "      <td>57.000000</td>\n",
       "      <td>57.0</td>\n",
       "      <td>57.00</td>\n",
       "    </tr>\n",
       "    <tr>\n",
       "      <th>9</th>\n",
       "      <td>74</td>\n",
       "      <td>74.000000</td>\n",
       "      <td>74.0</td>\n",
       "      <td>74.00</td>\n",
       "    </tr>\n",
       "    <tr>\n",
       "      <th>10</th>\n",
       "      <td>91</td>\n",
       "      <td>91.000000</td>\n",
       "      <td>91.0</td>\n",
       "      <td>91.00</td>\n",
       "    </tr>\n",
       "    <tr>\n",
       "      <th>11</th>\n",
       "      <td>92</td>\n",
       "      <td>92.000000</td>\n",
       "      <td>92.0</td>\n",
       "      <td>92.00</td>\n",
       "    </tr>\n",
       "    <tr>\n",
       "      <th>12</th>\n",
       "      <td>88</td>\n",
       "      <td>88.000000</td>\n",
       "      <td>88.0</td>\n",
       "      <td>88.00</td>\n",
       "    </tr>\n",
       "    <tr>\n",
       "      <th>13</th>\n",
       "      <td>68</td>\n",
       "      <td>68.000000</td>\n",
       "      <td>68.0</td>\n",
       "      <td>68.00</td>\n",
       "    </tr>\n",
       "    <tr>\n",
       "      <th>14</th>\n",
       "      <td>57</td>\n",
       "      <td>57.000000</td>\n",
       "      <td>57.0</td>\n",
       "      <td>57.00</td>\n",
       "    </tr>\n",
       "    <tr>\n",
       "      <th>15</th>\n",
       "      <td>48</td>\n",
       "      <td>48.000000</td>\n",
       "      <td>48.0</td>\n",
       "      <td>48.00</td>\n",
       "    </tr>\n",
       "    <tr>\n",
       "      <th>16</th>\n",
       "      <td>99</td>\n",
       "      <td>99.000000</td>\n",
       "      <td>99.0</td>\n",
       "      <td>99.00</td>\n",
       "    </tr>\n",
       "    <tr>\n",
       "      <th>17</th>\n",
       "      <td>101</td>\n",
       "      <td>101.000000</td>\n",
       "      <td>101.0</td>\n",
       "      <td>101.00</td>\n",
       "    </tr>\n",
       "    <tr>\n",
       "      <th>18</th>\n",
       "      <td>68</td>\n",
       "      <td>68.000000</td>\n",
       "      <td>68.0</td>\n",
       "      <td>68.00</td>\n",
       "    </tr>\n",
       "    <tr>\n",
       "      <th>19</th>\n",
       "      <td>77</td>\n",
       "      <td>77.000000</td>\n",
       "      <td>77.0</td>\n",
       "      <td>77.00</td>\n",
       "    </tr>\n",
       "    <tr>\n",
       "      <th>20</th>\n",
       "      <td>110</td>\n",
       "      <td>74.318182</td>\n",
       "      <td>71.0</td>\n",
       "      <td>109.55</td>\n",
       "    </tr>\n",
       "    <tr>\n",
       "      <th>21</th>\n",
       "      <td>140</td>\n",
       "      <td>74.318182</td>\n",
       "      <td>71.0</td>\n",
       "      <td>109.55</td>\n",
       "    </tr>\n",
       "  </tbody>\n",
       "</table>\n",
       "</div>"
      ],
      "text/plain": [
       "    salary  salary_imputed_mean  salary_imputed_median  salary_capped\n",
       "0       11            74.318182                   71.0          40.25\n",
       "1       40            40.000000                   40.0          40.25\n",
       "2       45            45.000000                   45.0          45.00\n",
       "3       68            68.000000                   68.0          68.00\n",
       "4       65            65.000000                   65.0          65.00\n",
       "5       68            68.000000                   68.0          68.00\n",
       "6       78            78.000000                   78.0          78.00\n",
       "7       90            90.000000                   90.0          90.00\n",
       "8       57            57.000000                   57.0          57.00\n",
       "9       74            74.000000                   74.0          74.00\n",
       "10      91            91.000000                   91.0          91.00\n",
       "11      92            92.000000                   92.0          92.00\n",
       "12      88            88.000000                   88.0          88.00\n",
       "13      68            68.000000                   68.0          68.00\n",
       "14      57            57.000000                   57.0          57.00\n",
       "15      48            48.000000                   48.0          48.00\n",
       "16      99            99.000000                   99.0          99.00\n",
       "17     101           101.000000                  101.0         101.00\n",
       "18      68            68.000000                   68.0          68.00\n",
       "19      77            77.000000                   77.0          77.00\n",
       "20     110            74.318182                   71.0         109.55\n",
       "21     140            74.318182                   71.0         109.55"
      ]
     },
     "execution_count": 46,
     "metadata": {},
     "output_type": "execute_result"
    }
   ],
   "source": [
    "df"
   ]
  },
  {
   "cell_type": "code",
   "execution_count": 48,
   "id": "620f23c0-aff0-4dae-97e4-dfd519f87a96",
   "metadata": {},
   "outputs": [
    {
     "data": {
      "image/png": "[encoded data removed]",
      "text/plain": [
       "<Figure size 640x480 with 2 Axes>"
      ]
     },
     "metadata": {},
     "output_type": "display_data"
    }
   ],
   "source": [
    "plt.subplot(1, 2, 1)\n",
    "sns.histplot(df['salary_capped'], kde=True)\n",
    "plt.title(\"The dist plot of capped salary\")\n",
    "\n",
    "plt.subplot(1, 2, 2)\n",
    "sns.boxplot(data=df, x='salary_capped')\n",
    "plt.title(\"The box plot of capped salary\")\n",
    "\n",
    "plt.show()"
   ]
  },
  {
   "cell_type": "code",
   "execution_count": null,
   "id": "a60aedab-d5b4-48d3-8066-b41831e05c68",
   "metadata": {},
   "outputs": [],
   "source": []
  }
 ],
 "metadata": {
  "kernelspec": {
   "display_name": "Python 3 (ipykernel)",
   "language": "python",
   "name": "python3"
  },
  "language_info": {
   "codemirror_mode": {
    "name": "ipython",
    "version": 3
   },
   "file_extension": ".py",
   "mimetype": "text/x-python",
   "name": "python",
   "nbconvert_exporter": "python",
   "pygments_lexer": "ipython3",
   "version": "3.10.8"
  }
 },
 "nbformat": 4,
 "nbformat_minor": 5
}
